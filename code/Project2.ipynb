{
 "cells": [
  {
   "cell_type": "markdown",
   "metadata": {},
   "source": [
    "# Project 2"
   ]
  },
  {
   "cell_type": "markdown",
   "metadata": {},
   "source": [
    "Alex Hindelang and Florian Michael-Schwarzinger"
   ]
  },
  {
   "cell_type": "markdown",
   "metadata": {},
   "source": [
    "# Q: What is the relationship between genetically modified T cells (CAR-T) and cancerous leukemia cells?"
   ]
  },
  {
   "cell_type": "markdown",
   "metadata": {},
   "source": [
    "An experimental new \"living drug\" to fight cancer is being put to use: genetically modified T cells. The cells are altered with a chimeric antigen receptor protein (denoted by the CAR acronym), which has the ability to target specific cells and is often derived from viruses like HIV. This is one of the most promising therapies for cancer treatment, but it comes with some potential dangers. The proliferation of CAR-T cells in the body can lead to inflammation and neurological toxicity. As such, it is important to monitor both the CAR-T cell growth and the cancerous cell growth."
   ]
  },
  {
   "cell_type": "markdown",
   "metadata": {},
   "source": [
    "We wish to investigate the difference between two strategies for reducing CAR-T toxicity: suicide genes, and activation molecules (ON-switch)."
   ]
  },
  {
   "cell_type": "code",
   "execution_count": 1,
   "metadata": {},
   "outputs": [],
   "source": [
    "# Configure Jupyter so figures appear in the notebook\n",
    "%matplotlib inline\n",
    "\n",
    "# Configure Jupyter to display the assigned value after an assignment\n",
    "%config InteractiveShell.ast_node_interactivity='last_expr_or_assign'\n",
    "\n",
    "# import functions from the modsim.py module\n",
    "from modsim import *"
   ]
  },
  {
   "cell_type": "markdown",
   "metadata": {},
   "source": [
    "We will first use a function to define the system values."
   ]
  },
  {
   "cell_type": "code",
   "execution_count": 2,
   "metadata": {},
   "outputs": [],
   "source": [
    "def make_system(Tbirth, Tdeath, cancerbirth, cancerdeath):\n",
    "    \"\"\"Make a system object of different rates    \n",
    "    returns: System object\n",
    "    \"\"\"\n",
    "    init = State(carT = 1, cancer = 1) #This is extremely not the value we're going with\n",
    "\n",
    "    t0 = 0\n",
    "    t_end = 200 #this is also arbitrary\n",
    "\n",
    "    return System(init=init, t0=t0, t_end=t_end, Tbirth = Tbirth, Tdeath = Tdeath, \n",
    "                  cancerbirth = cancerbirth, cancerdeath = cancerdeath)"
   ]
  },
  {
   "cell_type": "code",
   "execution_count": 1,
   "metadata": {},
   "outputs": [],
   "source": [
    "def plot_results(x, y):\n",
    "    \"\"\"Plot the results of a Lotka-Volterra model\n",
    "    \n",
    "    x: TimeSeries\n",
    "    y: TimeSeries\n",
    "    \"\"\"\n",
    "    plot(x, '--', label='Prey')\n",
    "    plot(y, '-', label='Predator')\n",
    "    decorate(xlabel='Time (days)',\n",
    "             ylabel='Fraction of Population')"
   ]
  },
  {
   "cell_type": "code",
   "execution_count": null,
   "metadata": {},
   "outputs": [],
   "source": []
  }
 ],
 "metadata": {
  "kernelspec": {
   "display_name": "Python 3",
   "language": "python",
   "name": "python3"
  },
  "language_info": {
   "codemirror_mode": {
    "name": "ipython",
    "version": 3
   },
   "file_extension": ".py",
   "mimetype": "text/x-python",
   "name": "python",
   "nbconvert_exporter": "python",
   "pygments_lexer": "ipython3",
   "version": "3.6.6"
  }
 },
 "nbformat": 4,
 "nbformat_minor": 2
}
