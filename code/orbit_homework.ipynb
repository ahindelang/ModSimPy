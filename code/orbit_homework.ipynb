{
 "cells": [
  {
   "cell_type": "markdown",
   "metadata": {},
   "source": [
    "# Modeling and Simulation in Python\n",
    "\n",
    "Starter code for the orbit example\n",
    "\n",
    "Alex Hindelang\n",
    "\n",
    "Copyright 2017 Allen Downey\n",
    "\n",
    "License: [Creative Commons Attribution 4.0 International](https://creativecommons.org/licenses/by/4.0)\n"
   ]
  },
  {
   "cell_type": "code",
   "execution_count": 1,
   "metadata": {},
   "outputs": [],
   "source": [
    "# Configure Jupyter so figures appear in the notebook\n",
    "%matplotlib inline\n",
    "\n",
    "# Configure Jupyter to display the assigned value after an assignment\n",
    "%config InteractiveShell.ast_node_interactivity='last_expr_or_assign'\n",
    "\n",
    "# import functions from the modsim.py module\n",
    "from modsim import *"
   ]
  },
  {
   "cell_type": "markdown",
   "metadata": {},
   "source": [
    "### Earth falling into the sun\n",
    "\n",
    "Here's a question from the web site [Ask an Astronomer](http://curious.astro.cornell.edu/about-us/39-our-solar-system/the-earth/other-catastrophes/57-how-long-would-it-take-the-earth-to-fall-into-the-sun-intermediate):\n",
    "\n",
    "\"If the Earth suddenly stopped orbiting the Sun, I know eventually it would be pulled in by the Sun's gravity and hit it. How long would it take the Earth to hit the Sun? I imagine it would go slowly at first and then pick up speed.\"\n",
    "\n",
    "Here's a solution."
   ]
  },
  {
   "cell_type": "code",
   "execution_count": null,
   "metadata": {},
   "outputs": [],
   "source": []
  },
  {
   "cell_type": "code",
   "execution_count": 2,
   "metadata": {},
   "outputs": [
    {
     "data": {
      "text/html": [
       "<div>\n",
       "<style scoped>\n",
       "    .dataframe tbody tr th:only-of-type {\n",
       "        vertical-align: middle;\n",
       "    }\n",
       "\n",
       "    .dataframe tbody tr th {\n",
       "        vertical-align: top;\n",
       "    }\n",
       "\n",
       "    .dataframe thead th {\n",
       "        text-align: right;\n",
       "    }\n",
       "</style>\n",
       "<table border=\"1\" class=\"dataframe\">\n",
       "  <thead>\n",
       "    <tr style=\"text-align: right;\">\n",
       "      <th></th>\n",
       "      <th>values</th>\n",
       "    </tr>\n",
       "  </thead>\n",
       "  <tbody>\n",
       "    <tr>\n",
       "      <th>x</th>\n",
       "      <td>1.470000e+11</td>\n",
       "    </tr>\n",
       "    <tr>\n",
       "      <th>y</th>\n",
       "      <td>0.000000e+00</td>\n",
       "    </tr>\n",
       "    <tr>\n",
       "      <th>vx</th>\n",
       "      <td>0.000000e+00</td>\n",
       "    </tr>\n",
       "    <tr>\n",
       "      <th>vy</th>\n",
       "      <td>-1.000000e+01</td>\n",
       "    </tr>\n",
       "  </tbody>\n",
       "</table>\n",
       "</div>"
      ],
      "text/plain": [
       "x     1.470000e+11\n",
       "y     0.000000e+00\n",
       "vx    0.000000e+00\n",
       "vy   -1.000000e+01\n",
       "dtype: float64"
      ]
     },
     "execution_count": 2,
     "metadata": {},
     "output_type": "execute_result"
    }
   ],
   "source": [
    "# And an inition condition (with everything in SI units)\n",
    "\n",
    "r_0 = 147e9\n",
    "\n",
    "init = State(x = r_0, y = 0, vx = 0, vy = -10)"
   ]
  },
  {
   "cell_type": "code",
   "execution_count": 3,
   "metadata": {},
   "outputs": [
    {
     "data": {
      "text/html": [
       "<div>\n",
       "<style scoped>\n",
       "    .dataframe tbody tr th:only-of-type {\n",
       "        vertical-align: middle;\n",
       "    }\n",
       "\n",
       "    .dataframe tbody tr th {\n",
       "        vertical-align: top;\n",
       "    }\n",
       "\n",
       "    .dataframe thead th {\n",
       "        text-align: right;\n",
       "    }\n",
       "</style>\n",
       "<table border=\"1\" class=\"dataframe\">\n",
       "  <thead>\n",
       "    <tr style=\"text-align: right;\">\n",
       "      <th></th>\n",
       "      <th>values</th>\n",
       "    </tr>\n",
       "  </thead>\n",
       "  <tbody>\n",
       "    <tr>\n",
       "      <th>init</th>\n",
       "      <td>x     1.470000e+11\n",
       "y     0.000000e+00\n",
       "vx    0....</td>\n",
       "    </tr>\n",
       "    <tr>\n",
       "      <th>G</th>\n",
       "      <td>6.674e-11</td>\n",
       "    </tr>\n",
       "    <tr>\n",
       "      <th>m1</th>\n",
       "      <td>1.989e+30</td>\n",
       "    </tr>\n",
       "    <tr>\n",
       "      <th>r_final</th>\n",
       "      <td>7.01879e+08</td>\n",
       "    </tr>\n",
       "    <tr>\n",
       "      <th>m2</th>\n",
       "      <td>5.972e+24</td>\n",
       "    </tr>\n",
       "    <tr>\n",
       "      <th>t_0</th>\n",
       "      <td>0</td>\n",
       "    </tr>\n",
       "    <tr>\n",
       "      <th>t_end</th>\n",
       "      <td>1e+11</td>\n",
       "    </tr>\n",
       "  </tbody>\n",
       "</table>\n",
       "</div>"
      ],
      "text/plain": [
       "init       x     1.470000e+11\n",
       "y     0.000000e+00\n",
       "vx    0....\n",
       "G                                                  6.674e-11\n",
       "m1                                                 1.989e+30\n",
       "r_final                                          7.01879e+08\n",
       "m2                                                 5.972e+24\n",
       "t_0                                                        0\n",
       "t_end                                                  1e+11\n",
       "dtype: object"
      ]
     },
     "execution_count": 3,
     "metadata": {},
     "output_type": "execute_result"
    }
   ],
   "source": [
    "# Making a system object\n",
    "\n",
    "r_earth = 6.371e6\n",
    "r_sun = 695.508e6\n",
    "\n",
    "system = System(init=init,\n",
    "                G=6.674e-11,\n",
    "                m1=1.989e30,\n",
    "                r_final=r_sun + r_earth,\n",
    "                m2=5.972e24,\n",
    "                t_0=0,\n",
    "                t_end=10e10\n",
    "               )"
   ]
  },
  {
   "cell_type": "code",
   "execution_count": 4,
   "metadata": {},
   "outputs": [],
   "source": [
    "# Here's a function that computes the force of gravity\n",
    "\n",
    "def universal_gravitation(state, system):\n",
    "    \"\"\"Computes gravitational force.\n",
    "    \n",
    "    state: State object with distance r\n",
    "    system: System object with m1, m2, and G\n",
    "    \"\"\"\n",
    "    x, y, vx, vy = state\n",
    "    unpack(system)\n",
    "    \n",
    "    r = Vector(x,y)\n",
    "    force = G * m1 * m2 / r.mag**2\n",
    "    a, b = pol2cart(-r.angle, force)\n",
    "    return Vector(a, b)"
   ]
  },
  {
   "cell_type": "code",
   "execution_count": 5,
   "metadata": {},
   "outputs": [
    {
     "data": {
      "text/html": [
       "[ 3.6686486e+22 -0.0000000e+00] dimensionless"
      ],
      "text/latex": [
       "$[ 3.6686486e+22 -0.0000000e+00] dimensionless$"
      ],
      "text/plain": [
       "<Quantity([ 3.6686486e+22 -0.0000000e+00], 'dimensionless')>"
      ]
     },
     "execution_count": 5,
     "metadata": {},
     "output_type": "execute_result"
    }
   ],
   "source": [
    "universal_gravitation(init, system)"
   ]
  },
  {
   "cell_type": "code",
   "execution_count": 6,
   "metadata": {},
   "outputs": [],
   "source": [
    "# The slope function\n",
    "\n",
    "def slope_func(state, t, system):\n",
    "    \"\"\"Compute derivatives of the state.\n",
    "    \n",
    "    state: position, velocity\n",
    "    t: time\n",
    "    system: System object containing `g`\n",
    "    \n",
    "    returns: derivatives of y and v\n",
    "    \"\"\"\n",
    "    x, y, vx, vy = state\n",
    "    unpack(system)    \n",
    "\n",
    "    force = universal_gravitation(state, system)\n",
    "    dxdt = vx\n",
    "    dydt = vy\n",
    "    dvxdt = -force[0] / m2\n",
    "    dvydt = force[1] / m2\n",
    "    \n",
    "    return dxdt, dydt, dvxdt, dvydt"
   ]
  },
  {
   "cell_type": "code",
   "execution_count": 7,
   "metadata": {},
   "outputs": [
    {
     "data": {
      "text/plain": [
       "(0.0,\n",
       " -10.0,\n",
       " <Quantity(-0.006143082049146188, 'dimensionless')>,\n",
       " <Quantity(-0.0, 'dimensionless')>)"
      ]
     },
     "execution_count": 7,
     "metadata": {},
     "output_type": "execute_result"
    }
   ],
   "source": [
    "# Always test the slope function!\n",
    "\n",
    "slope_func(init, 0, system)"
   ]
  },
  {
   "cell_type": "code",
   "execution_count": 8,
   "metadata": {},
   "outputs": [],
   "source": [
    "# Here's an event function that stops the simulation\n",
    "# before the collision\n",
    "\n",
    "def event_func(state, t, system):\n",
    "    x, y, vx, vy = state\n",
    "    r = sqrt(x**2+y**2)\n",
    "    return r - system.r_final"
   ]
  },
  {
   "cell_type": "code",
   "execution_count": 9,
   "metadata": {},
   "outputs": [
    {
     "data": {
      "text/plain": [
       "146298121000.0"
      ]
     },
     "execution_count": 9,
     "metadata": {},
     "output_type": "execute_result"
    }
   ],
   "source": [
    "# Always test the event function!\n",
    "\n",
    "event_func(init, 0, system)"
   ]
  },
  {
   "cell_type": "code",
   "execution_count": 10,
   "metadata": {},
   "outputs": [
    {
     "data": {
      "text/html": [
       "<div>\n",
       "<style scoped>\n",
       "    .dataframe tbody tr th:only-of-type {\n",
       "        vertical-align: middle;\n",
       "    }\n",
       "\n",
       "    .dataframe tbody tr th {\n",
       "        vertical-align: top;\n",
       "    }\n",
       "\n",
       "    .dataframe thead th {\n",
       "        text-align: right;\n",
       "    }\n",
       "</style>\n",
       "<table border=\"1\" class=\"dataframe\">\n",
       "  <thead>\n",
       "    <tr style=\"text-align: right;\">\n",
       "      <th></th>\n",
       "      <th>values</th>\n",
       "    </tr>\n",
       "  </thead>\n",
       "  <tbody>\n",
       "    <tr>\n",
       "      <th>sol</th>\n",
       "      <td>None</td>\n",
       "    </tr>\n",
       "    <tr>\n",
       "      <th>t_events</th>\n",
       "      <td>[]</td>\n",
       "    </tr>\n",
       "    <tr>\n",
       "      <th>nfev</th>\n",
       "      <td>21668</td>\n",
       "    </tr>\n",
       "    <tr>\n",
       "      <th>njev</th>\n",
       "      <td>0</td>\n",
       "    </tr>\n",
       "    <tr>\n",
       "      <th>nlu</th>\n",
       "      <td>0</td>\n",
       "    </tr>\n",
       "    <tr>\n",
       "      <th>status</th>\n",
       "      <td>-1</td>\n",
       "    </tr>\n",
       "    <tr>\n",
       "      <th>message</th>\n",
       "      <td>Required step size is less than spacing betwee...</td>\n",
       "    </tr>\n",
       "    <tr>\n",
       "      <th>success</th>\n",
       "      <td>False</td>\n",
       "    </tr>\n",
       "  </tbody>\n",
       "</table>\n",
       "</div>"
      ],
      "text/plain": [
       "sol                                                      None\n",
       "t_events                                                   []\n",
       "nfev                                                    21668\n",
       "njev                                                        0\n",
       "nlu                                                         0\n",
       "status                                                     -1\n",
       "message     Required step size is less than spacing betwee...\n",
       "success                                                 False\n",
       "dtype: object"
      ]
     },
     "execution_count": 10,
     "metadata": {},
     "output_type": "execute_result"
    }
   ],
   "source": [
    "# Finally we can run the simulation\n",
    "\n",
    "results, details = run_ode_solver(system, slope_func)\n",
    "details"
   ]
  },
  {
   "cell_type": "code",
   "execution_count": 11,
   "metadata": {},
   "outputs": [
    {
     "data": {
      "text/plain": [
       "[<matplotlib.lines.Line2D at 0x2143fd44b00>]"
      ]
     },
     "execution_count": 11,
     "metadata": {},
     "output_type": "execute_result"
    },
    {
     "data": {
      "image/png": "[encoded data removed]",
      "text/plain": [
       "<Figure size 432x288 with 1 Axes>"
      ]
     },
     "metadata": {
      "needs_background": "light"
     },
     "output_type": "display_data"
    }
   ],
   "source": [
    "plot(results.x)\n",
    "plot(results.y)"
   ]
  },
  {
   "cell_type": "code",
   "execution_count": 17,
   "metadata": {},
   "outputs": [
    {
     "data": {
      "text/html": [
       "<div>\n",
       "<style scoped>\n",
       "    .dataframe tbody tr th:only-of-type {\n",
       "        vertical-align: middle;\n",
       "    }\n",
       "\n",
       "    .dataframe tbody tr th {\n",
       "        vertical-align: top;\n",
       "    }\n",
       "\n",
       "    .dataframe thead th {\n",
       "        text-align: right;\n",
       "    }\n",
       "</style>\n",
       "<table border=\"1\" class=\"dataframe\">\n",
       "  <thead>\n",
       "    <tr style=\"text-align: right;\">\n",
       "      <th></th>\n",
       "      <th>values</th>\n",
       "    </tr>\n",
       "  </thead>\n",
       "  <tbody>\n",
       "    <tr>\n",
       "      <th>x</th>\n",
       "      <td>1.470000e+11</td>\n",
       "    </tr>\n",
       "    <tr>\n",
       "      <th>y</th>\n",
       "      <td>0.000000e+00</td>\n",
       "    </tr>\n",
       "    <tr>\n",
       "      <th>vx</th>\n",
       "      <td>0.000000e+00</td>\n",
       "    </tr>\n",
       "    <tr>\n",
       "      <th>vy</th>\n",
       "      <td>3.033000e+04</td>\n",
       "    </tr>\n",
       "  </tbody>\n",
       "</table>\n",
       "</div>"
      ],
      "text/plain": [
       "x     1.470000e+11\n",
       "y     0.000000e+00\n",
       "vx    0.000000e+00\n",
       "vy    3.033000e+04\n",
       "dtype: float64"
      ]
     },
     "execution_count": 17,
     "metadata": {},
     "output_type": "execute_result"
    }
   ],
   "source": [
    "# And an inition condition (with everything in SI units)\n",
    "\n",
    "r_0 = 147e9\n",
    "\n",
    "init = State(x = r_0, y = 0, vx = 0, vy = 30330)"
   ]
  },
  {
   "cell_type": "code",
   "execution_count": 18,
   "metadata": {},
   "outputs": [
    {
     "data": {
      "text/html": [
       "<div>\n",
       "<style scoped>\n",
       "    .dataframe tbody tr th:only-of-type {\n",
       "        vertical-align: middle;\n",
       "    }\n",
       "\n",
       "    .dataframe tbody tr th {\n",
       "        vertical-align: top;\n",
       "    }\n",
       "\n",
       "    .dataframe thead th {\n",
       "        text-align: right;\n",
       "    }\n",
       "</style>\n",
       "<table border=\"1\" class=\"dataframe\">\n",
       "  <thead>\n",
       "    <tr style=\"text-align: right;\">\n",
       "      <th></th>\n",
       "      <th>values</th>\n",
       "    </tr>\n",
       "  </thead>\n",
       "  <tbody>\n",
       "    <tr>\n",
       "      <th>init</th>\n",
       "      <td>x     1.470000e+11\n",
       "y     0.000000e+00\n",
       "vx    0....</td>\n",
       "    </tr>\n",
       "    <tr>\n",
       "      <th>G</th>\n",
       "      <td>6.674e-11</td>\n",
       "    </tr>\n",
       "    <tr>\n",
       "      <th>m1</th>\n",
       "      <td>1.989e+30</td>\n",
       "    </tr>\n",
       "    <tr>\n",
       "      <th>r_final</th>\n",
       "      <td>7.01879e+08</td>\n",
       "    </tr>\n",
       "    <tr>\n",
       "      <th>m2</th>\n",
       "      <td>5.972e+24</td>\n",
       "    </tr>\n",
       "    <tr>\n",
       "      <th>t_0</th>\n",
       "      <td>0</td>\n",
       "    </tr>\n",
       "    <tr>\n",
       "      <th>t_end</th>\n",
       "      <td>1e+11</td>\n",
       "    </tr>\n",
       "  </tbody>\n",
       "</table>\n",
       "</div>"
      ],
      "text/plain": [
       "init       x     1.470000e+11\n",
       "y     0.000000e+00\n",
       "vx    0....\n",
       "G                                                  6.674e-11\n",
       "m1                                                 1.989e+30\n",
       "r_final                                          7.01879e+08\n",
       "m2                                                 5.972e+24\n",
       "t_0                                                        0\n",
       "t_end                                                  1e+11\n",
       "dtype: object"
      ]
     },
     "execution_count": 18,
     "metadata": {},
     "output_type": "execute_result"
    }
   ],
   "source": [
    "# Making a system object\n",
    "\n",
    "r_earth = 6.371e6\n",
    "r_sun = 695.508e6\n",
    "\n",
    "system = System(init=init,\n",
    "                G=6.674e-11,\n",
    "                m1=1.989e30,\n",
    "                r_final=r_sun + r_earth,\n",
    "                m2=5.972e24,\n",
    "                t_0=0,\n",
    "                t_end=10e10\n",
    "               )"
   ]
  },
  {
   "cell_type": "code",
   "execution_count": 21,
   "metadata": {},
   "outputs": [
    {
     "data": {
      "text/plain": [
       "(                         x             y            vx             vy\n",
       " 0.000000e+00  1.470000e+11  0.000000e+00  0.000000e+00   30330.000000\n",
       " 4.662755e-08  1.470000e+11  1.414214e-03 -2.864369e-10   30330.000000\n",
       " 5.129030e-07  1.470000e+11  1.555635e-02 -3.150805e-09   30330.000000\n",
       " 5.175658e-06  1.470000e+11  1.569777e-01 -3.179449e-08   30330.000000\n",
       " 5.180321e-05  1.470000e+11  1.571191e+00 -3.182313e-07   30330.000000\n",
       " 5.180787e-04  1.470000e+11  1.571333e+01 -3.182600e-06   30330.000000\n",
       " 5.180834e-03  1.470000e+11  1.571347e+02 -3.182629e-05   30330.000000\n",
       " 5.180838e-02  1.470000e+11  1.571348e+03 -3.182631e-04   30330.000000\n",
       " 5.180839e-01  1.470000e+11  1.571348e+04 -3.182632e-03   30330.000000\n",
       " 5.180839e+00  1.470000e+11  1.571348e+05 -3.182632e-02   30330.000000\n",
       " 5.180839e+01  1.470000e+11  1.571348e+06 -3.182632e-01   30329.999998\n",
       " 5.180839e+02  1.470000e+11  1.571348e+07 -3.182632e+00   30329.999830\n",
       " 5.180839e+03  1.469999e+11  1.571348e+08 -3.182631e+01   30329.982990\n",
       " 5.180839e+04  1.469918e+11  1.571319e+09 -3.182569e+02   30328.298990\n",
       " 5.180839e+05  1.461764e+11  1.568413e+10 -3.176353e+03   30160.082815\n",
       " 3.842569e+06  1.040238e+11  1.049633e+11 -2.116123e+04   21494.748487\n",
       " 8.292071e+06 -1.716810e+10  1.487554e+11 -2.953900e+04   -3056.129243\n",
       " 1.288254e+07 -1.281500e+11  7.917175e+10 -1.539176e+04  -25102.479842\n",
       " 1.733120e+07 -1.415448e+11 -4.722822e+10  9.936206e+03  -27953.740657\n",
       " 2.191359e+07 -4.593225e+10 -1.386638e+11  2.891554e+04   -8728.023125\n",
       " 2.670787e+07  9.130711e+10 -1.096478e+11  2.314847e+04   20175.414008\n",
       " 3.086498e+07  1.406544e+11  4.491126e+09 -1.262140e+03   31009.057667\n",
       " 3.520860e+07  7.704510e+10  1.177323e+11 -2.579946e+04   17014.860893\n",
       " 3.957519e+07 -5.161341e+10  1.318389e+11 -2.852465e+04  -11057.749742\n",
       " 4.394178e+07 -1.369839e+11  3.592533e+10 -7.502508e+03  -29539.814393\n",
       " 4.837773e+07 -1.063489e+11 -9.089025e+10  2.044838e+04  -22928.313973\n",
       " 5.281368e+07  1.781818e+10 -1.356358e+11  3.085431e+04    4887.158346\n",
       " 5.724963e+07  1.229094e+11 -5.259122e+10  1.182271e+04   29422.116376\n",
       " 6.099505e+07  1.158546e+11  6.293266e+10 -1.555965e+04   28024.714885\n",
       " 6.480612e+07  1.896940e+10  1.303727e+11 -3.161626e+04    4730.125441\n",
       " ...                    ...           ...           ...            ...\n",
       " 3.649270e+08 -3.293494e+08  8.320830e+08 -3.597550e+05 -143968.166723\n",
       " 3.649291e+08 -8.584171e+08  2.542812e+08 -1.102289e+05 -370182.646461\n",
       " 3.649313e+08 -7.007279e+08 -5.598801e+08  2.407137e+05 -299074.071015\n",
       " 3.649336e+08  5.788043e+07 -8.891110e+08  3.836324e+05   30650.605541\n",
       " 3.649358e+08  7.580009e+08 -4.391393e+08  1.874407e+05  341408.634906\n",
       " 3.649378e+08  8.059076e+08  3.004671e+08 -1.449616e+05  368182.671361\n",
       " 3.649398e+08  2.311471e+08  8.192152e+08 -3.839506e+05  105777.818124\n",
       " 3.649419e+08 -5.449093e+08  6.541677e+08 -3.047937e+05 -253314.484480\n",
       " 3.649439e+08 -8.501177e+08 -7.230328e+07  3.441105e+04 -392316.254321\n",
       " 3.649460e+08 -4.266249e+08 -7.335292e+08  3.434768e+05 -193720.611858\n",
       " 3.649479e+08  2.903079e+08 -7.853612e+08  3.715143e+05  144827.090543\n",
       " 3.649498e+08  7.915104e+08 -2.338317e+08  1.084688e+05  388222.470949\n",
       " 3.649518e+08  6.242201e+08  5.272216e+08 -2.643426e+05  306707.840213\n",
       " 3.649538e+08 -1.049398e+08  8.048037e+08 -4.013431e+05  -56121.563362\n",
       " 3.649558e+08 -7.302446e+08  3.380211e+08 -1.655051e+05 -370997.236508\n",
       " 3.649576e+08 -7.122752e+08 -3.536766e+08  1.872721e+05 -364712.554891\n",
       " 3.649593e+08 -1.530086e+08 -7.729055e+08  4.053389e+05  -76587.769281\n",
       " 3.649612e+08  5.505083e+08 -5.582958e+08  2.919296e+05  291475.506308\n",
       " 3.649630e+08  7.667358e+08  1.438659e+08 -7.987008e+04  404786.510205\n",
       " 3.649649e+08  2.995021e+08  7.120232e+08 -3.845276e+05  154768.524724\n",
       " 3.649667e+08 -4.351625e+08  6.235183e+08 -3.382112e+05 -246462.843254\n",
       " 3.649684e+08 -7.473356e+08  3.353638e+07 -1.231013e+04 -423777.971883\n",
       " 3.649701e+08 -4.423948e+08 -5.944570e+08  3.435200e+05 -251634.550337\n",
       " 3.649718e+08  2.482468e+08 -6.957496e+08  3.996081e+05  144562.324568\n",
       " 3.649735e+08  7.139673e+08 -1.786488e+08  9.931020e+04  412603.975048\n",
       " 3.649752e+08  5.348198e+08  4.943165e+08 -2.949026e+05  308229.345884\n",
       " 3.649767e+08 -6.085655e+07  7.145078e+08 -4.296711e+05  -44199.583594\n",
       " 3.649783e+08 -6.142739e+08  3.517878e+08 -2.118157e+05 -380509.788756\n",
       " 3.649799e+08 -6.293967e+08 -3.126256e+08  1.969730e+05 -389398.434774\n",
       " 3.649802e+08 -5.650365e+08 -4.163747e+08  2.613823e+05 -350563.011681\n",
       " \n",
       " [624 rows x 4 columns], sol                                  None\n",
       " t_events            [[364980158.8669414]]\n",
       " nfev                                 4448\n",
       " njev                                    0\n",
       " nlu                                     0\n",
       " status                                  1\n",
       " message     A termination event occurred.\n",
       " success                              True\n",
       " dtype: object)"
      ]
     },
     "execution_count": 21,
     "metadata": {},
     "output_type": "execute_result"
    }
   ],
   "source": [
    "# Before plotting, we run the simulation again with `t_eval`\n",
    "\n",
    "ts = linspace(t_0, t_final, 201)\n",
    "results = run_ode_solver(system, slope_func, events=event_func)"
   ]
  },
  {
   "cell_type": "code",
   "execution_count": 22,
   "metadata": {},
   "outputs": [
    {
     "data": {
      "text/plain": [
       "[<matplotlib.lines.Line2D at 0x214405833c8>]"
      ]
     },
     "execution_count": 22,
     "metadata": {},
     "output_type": "execute_result"
    },
    {
     "data": {
      "image/png": "[encoded data removed]",
      "text/plain": [
       "<Figure size 432x288 with 1 Axes>"
      ]
     },
     "metadata": {
      "needs_background": "light"
     },
     "output_type": "display_data"
    }
   ],
   "source": [
    "# Scaling the time steps to days\n",
    "plot(results[0].x, results[0].y)"
   ]
  },
  {
   "cell_type": "code",
   "execution_count": 23,
   "metadata": {},
   "outputs": [
    {
     "ename": "AttributeError",
     "evalue": "'tuple' object has no attribute 'r'",
     "output_type": "error",
     "traceback": [
      "\u001b[1;31m---------------------------------------------------------------------------\u001b[0m",
      "\u001b[1;31mAttributeError\u001b[0m                            Traceback (most recent call last)",
      "\u001b[1;32m<ipython-input-23-af85867b7821>\u001b[0m in \u001b[0;36m<module>\u001b[1;34m()\u001b[0m\n\u001b[0;32m      1\u001b[0m \u001b[1;31m# Scaling the distance to million km\u001b[0m\u001b[1;33m\u001b[0m\u001b[1;33m\u001b[0m\u001b[0m\n\u001b[0;32m      2\u001b[0m \u001b[1;33m\u001b[0m\u001b[0m\n\u001b[1;32m----> 3\u001b[1;33m \u001b[0mr\u001b[0m \u001b[1;33m=\u001b[0m \u001b[0mresults\u001b[0m\u001b[1;33m.\u001b[0m\u001b[0mr\u001b[0m \u001b[1;33m/\u001b[0m \u001b[1;36m1e9\u001b[0m\u001b[1;33m;\u001b[0m\u001b[1;33m\u001b[0m\u001b[0m\n\u001b[0m",
      "\u001b[1;31mAttributeError\u001b[0m: 'tuple' object has no attribute 'r'"
     ]
    }
   ],
   "source": [
    "# Scaling the distance to million km\n",
    "\n",
    "r = results.r / 1e9;"
   ]
  },
  {
   "cell_type": "code",
   "execution_count": null,
   "metadata": {},
   "outputs": [],
   "source": [
    "# And plotting\n",
    "\n",
    "plot(r, label='r')\n",
    "\n",
    "decorate(xlabel='Time (day)',\n",
    "         ylabel='Distance from sun (million km)')"
   ]
  },
  {
   "cell_type": "code",
   "execution_count": null,
   "metadata": {},
   "outputs": [],
   "source": [
    "#these last bits I had some trouble with, but most of it seems okay? I can talk through the last issues with a NINJA but I feel okay about most"
   ]
  },
  {
   "cell_type": "code",
   "execution_count": null,
   "metadata": {},
   "outputs": [],
   "source": []
  }
 ],
 "metadata": {
  "kernelspec": {
   "display_name": "Python 3",
   "language": "python",
   "name": "python3"
  },
  "language_info": {
   "codemirror_mode": {
    "name": "ipython",
    "version": 3
   },
   "file_extension": ".py",
   "mimetype": "text/x-python",
   "name": "python",
   "nbconvert_exporter": "python",
   "pygments_lexer": "ipython3",
   "version": "3.6.6"
  }
 },
 "nbformat": 4,
 "nbformat_minor": 2
}
