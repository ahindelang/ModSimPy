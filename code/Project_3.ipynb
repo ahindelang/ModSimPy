{
 "cells": [
  {
   "cell_type": "markdown",
   "metadata": {},
   "source": [
    "# Project 3\n",
    "Griffith Stites and Alex Hindelang"
   ]
  },
  {
   "cell_type": "markdown",
   "metadata": {},
   "source": [
    "# Question: How does the fluid in which a penguin swims change its maximum velocity and swim time?"
   ]
  },
  {
   "cell_type": "markdown",
   "metadata": {},
   "source": [
    "We are modeling the motion of a penguin in olympic-sized swimming pool filled with different fluids to test how its motion is affected."
   ]
  },
  {
   "cell_type": "code",
   "execution_count": 1,
   "metadata": {},
   "outputs": [],
   "source": [
    "# Configure Jupyter so figures appear in the notebook\n",
    "%matplotlib inline\n",
    "\n",
    "# Configure Jupyter to display the assigned value after an assignment\n",
    "%config InteractiveShell.ast_node_interactivity='last_expr_or_assign'\n",
    "\n",
    "# import functions from the modsim.py module\n",
    "from modsim import *\n",
    "\n",
    "# import matlab like plotting functions\n",
    "import matplotlib\n",
    "import matplotlib.pyplot as plt\n",
    "import matplotlib.patches as mpatches\n",
    "from matplotlib.pyplot import figure\n",
    "from scipy import signal\n",
    "import math"
   ]
  },
  {
   "cell_type": "markdown",
   "metadata": {},
   "source": [
    "# Model"
   ]
  },
  {
   "cell_type": "markdown",
   "metadata": {},
   "source": [
    "### Assumptions\n",
    "* Temperature changes for the fluid do not significantly change density. We choose based off of the listed temperature from the [Engineering Toolbox Chart](https://www.engineeringtoolbox.com/liquids-densities-d_743.html \"Engineering Toolbox\").\n",
    "* The force the penguin exerts on the fluid does not change based on fluid density. We made this assumption because it makes sense that there is a maximum force the penguin can exert regardless of density. For example, if it was pushing against an infinitely dense solid it could not exert an infinite force. However, it also makes sense that there would be a fluid that was not dense enough to exert maximum force onto it (like air). We chose to ignore this because although we have fluids heavier and lighter than sea water, they are not at either extreme.\n",
    "* Penguins flap their flippers 50% of the time when exerting maximum force.\n",
    "* When penguins reset their flippers back to the ready to propel positions, they do not push themselves backwards at all. This assumption was made because we figured the force would be relatively small as penguins are efficient and aerodynamic swimmers."
   ]
  },
  {
   "cell_type": "markdown",
   "metadata": {},
   "source": [
    "### Schematic Diagram "
   ]
  },
  {
   "cell_type": "markdown",
   "metadata": {},
   "source": [
    "![](https://raw.githubusercontent.com/ahindelang/ModSimPy/master/code/Untitled-1.png)\n",
    "\n",
    "This is a 1-dimensional model, so the penguin only moves in the positive x direction. The drag force is opposite to this. The simulation ends when the penguin reaches the other side of an Olympic swimming pool, which is 50 meters long."
   ]
  },
  {
   "cell_type": "markdown",
   "metadata": {},
   "source": [
    "### Differential Equations\n",
    "\n",
    "![](https://raw.githubusercontent.com/ahindelang/ModSimPy/master/dx.PNG)\n",
    "\n",
    "The change in distance over time is simply the velocity. The slope function calculates the velocity using a separate differential equation.\n",
    "\n",
    "![](https://raw.githubusercontent.com/ahindelang/ModSimPy/master/dv.PNG)\n",
    "\n",
    "Fp refers to the force of the penguin. The term in parentheses is the drag equation: Cd is the coefficient of drag, rho is the fluid density, v is the velocity, and A is the reference area. The difference between these two is the total force propelling the penguin forward. This is divided by m (mass of the penguin) to find acceleration according to Newton's 2nd Law of Motion."
   ]
  },
  {
   "cell_type": "markdown",
   "metadata": {},
   "source": [
    "Our model uses force equations to derive the velocity and distance traveled of a penguin. It runs a simulation of the force of the penguin swimming versus the drag force and records the time it takes for the penguin to travel the length of an Olympic swimming pool."
   ]
  },
  {
   "cell_type": "code",
   "execution_count": null,
   "metadata": {},
   "outputs": [],
   "source": [
    "m = UNITS.meter\n",
    "s = UNITS.second\n",
    "kg = UNITS.kilogram\n",
    "km = UNITS.kilometer\n",
    "hr = UNITS.hour\n",
    "s = UNITS.second\n",
    "N = UNITS.newton\n",
    ";"
   ]
  },
  {
   "cell_type": "markdown",
   "metadata": {},
   "source": [
    "We declared the values of different liquid densities: sea water, syrup, and propyl alcohol. Sea water was chosen as it is the natural fluid of a penguin and can be used as a control. It is also necessary for finding the force of a penguin based on the max speed since max speed for a penguin data is usually taken in sea water. Syrup was chosen as a fluid denser than sea water, and propyl alcohol as one less dense.\n",
    "\n",
    "These liquid densities were declared outside of our Params object so we could easily edit our params and system later.\n",
    "\n",
    "We do the same for the mass of the penguin, so if we choose to add more species later we can alter it. The current penguin is the Gentoo penguin, which is the fastest of all penguins. We include the penguin's mass, max speed, and the flapping speed of the penguin (Based off of watching a [Gentoo Penguin Swim](https://www.youtube.com/watch?v=_TXKiz_DGc4 \"Video\")).\n",
    "\n",
    "The other parameters are as follows:\n",
    "\n",
    "C_d = Coeffient of drag of the penguin\n",
    "\n",
    "frontal_area = The frontal area of the penguin\n",
    "\n",
    "velocity_init = Starting velocity of the penguin\n",
    "\n",
    "pool_length = Length of the pool (Based off an Olympic swimming pool)\n",
    "\n",
    "The Coefficient of drag and frontal area were calculated based off information found in [this paper](jeb.biologists.org/content/jexbio/87/1/357.2.full.pdf \"Paper\")."
   ]
  },
  {
   "cell_type": "code",
   "execution_count": null,
   "metadata": {},
   "outputs": [],
   "source": [
    "rho_sea_water = 1025 * kg/m**3\n",
    "rho_syrup = 1370 * kg/m**3\n",
    "rho_propyl_alcohol = 800 * kg/m**3\n",
    "\n",
    "gentoo_mass =  5.8967 * kg\n",
    "gentoo_max_average_speed = 10 * m / s\n",
    "gentoo_flap_rate = 3 #Number of times per second the penguin flaps its flippers\n",
    "\n",
    "params = Params(rho = rho_sea_water,\n",
    "                C_d = 0.07,\n",
    "                frontal_area = 0.02 * m**2,\n",
    "                velocity_init = 0 * m / s,\n",
    "                pool_length = 50 * m,\n",
    "                p_mass = gentoo_mass,\n",
    "                p_max_avg_speed = gentoo_max_average_speed,\n",
    "                p_flap_speed = 1/gentoo_flap_rate\n",
    ")"
   ]
  },
  {
   "cell_type": "markdown",
   "metadata": {},
   "source": [
    "We can then build a system object using the parameters we have. This includes a State object, init, of the distance traveled and velocity of the penguin.\n",
    "\n",
    "The system object also includes a parameter \"f_penguin_calc\" which tells our \"force_penguin\" (later) function which force_penguin wave model to use (Either sawtooth or sine, more later)."
   ]
  },
  {
   "cell_type": "code",
   "execution_count": null,
   "metadata": {},
   "outputs": [],
   "source": [
    "def make_system(params):\n",
    "    \"\"\"Make a system object.\n",
    "    \n",
    "    params: Params object with\n",
    "    \n",
    "    returns: System object\"\"\"\n",
    "    unpack(params)\n",
    "    init = State(x=0 * m, v=velocity_init)\n",
    "    t_end = 100 * s\n",
    "    f_penguin_calc = 'Sawtooth'\n",
    "    \n",
    "    return System(params, init=init, t_end=t_end, f_penguin_calc=f_penguin_calc)"
   ]
  },
  {
   "cell_type": "code",
   "execution_count": null,
   "metadata": {},
   "outputs": [],
   "source": [
    "system = make_system(params)"
   ]
  },
  {
   "cell_type": "markdown",
   "metadata": {},
   "source": [
    "This function plots the distance and velocity vs. time in labeled plots. It also calls on three functions: plot_info, calc_total_time, and calc_max_speed. These three functions provide succint information for the result."
   ]
  },
  {
   "cell_type": "code",
   "execution_count": null,
   "metadata": {},
   "outputs": [],
   "source": [
    "def analyze_results(results, system, title):\n",
    "    \"\"\"Plot the results of a penguin model and provide summary statements.\n",
    "    \n",
    "    results: Dataframe with the results of the model\n",
    "    system: System object for the model\n",
    "    title: String with title of the model\"\"\"\n",
    "    \n",
    "    plot_info(system)\n",
    "    \n",
    "    #Changes the size of the figure\n",
    "    figure(num=None, figsize=(30, 10), dpi=80, facecolor='w', edgecolor='k')\n",
    "    #Changes the font of the figure\n",
    "    font = {'family' : 'DejaVu Sans',\n",
    "            'weight' : 'normal',\n",
    "            'size'   : 30}\n",
    "    matplotlib.rc('font', **font)\n",
    "\n",
    "    #Creates the position vs time plot\n",
    "    plt.subplot(1, 2, 1)\n",
    "    plt.plot(results.index, results.x, color='lightgreen', linewidth=7.0)\n",
    "    plt.title(title + ': Position vs Time', fontsize = 40)\n",
    "    plt.xlabel('Time (Seconds)', fontsize = 20)\n",
    "    plt.ylabel('Position (Meters)', fontsize = 20)\n",
    "    \n",
    "    #Creates the velocity vs time plot\n",
    "    plt.subplot(1, 2, 2)\n",
    "    plt.plot(results.index, results.v, color='lightblue', linewidth=7.0)\n",
    "    plt.title(title + ': Velocity vs Time', fontsize = 40)\n",
    "    plt.xlabel('Time (Seconds)', fontsize = 20)\n",
    "    plt.ylabel('Velocity (m/s)', fontsize = 20)\n",
    "    \n",
    "    plt.show()\n",
    "    \n",
    "    calc_total_time(results)\n",
    "    calc_max_speed(results)\n",
    "    calc_avg_speed(results)"
   ]
  },
  {
   "cell_type": "markdown",
   "metadata": {},
   "source": [
    "This function returns the details of the independent variables: penguin mass and fluid density. It also prints the name of the penguin force model used: sawtooth or sine wave."
   ]
  },
  {
   "cell_type": "code",
   "execution_count": null,
   "metadata": {},
   "outputs": [],
   "source": [
    "def plot_info(system):\n",
    "    \"\"\"Print the penguin mass, fluid density, and penguin force model for the plot.\n",
    "    \n",
    "    system: System object\n",
    "    \"\"\"\n",
    "    print('\\x1b[1;31m'+'Penguin force model: '+'\\x1b[0m', \n",
    "          '\\x1b[1;31m'+ system.f_penguin_calc +'\\x1b[0m')\n",
    "    p_mass = system.p_mass\n",
    "    p_mass_str = str(p_mass)\n",
    "    print('\\x1b[1;31m'+'Penguin mass: '+'\\x1b[0m', \n",
    "          '\\x1b[1;31m'+ p_mass_str +'\\x1b[0m')\n",
    "    rho = system.rho\n",
    "    rho_str = str(rho)\n",
    "    print('\\x1b[1;31m'+'Fluid density: '+'\\x1b[0m', \n",
    "          '\\x1b[1;31m'+ rho_str +'\\x1b[0m')"
   ]
  },
  {
   "cell_type": "markdown",
   "metadata": {},
   "source": [
    "This function prints the time it took for the penguin to reach the other side of the swimming pool."
   ]
  },
  {
   "cell_type": "code",
   "execution_count": null,
   "metadata": {},
   "outputs": [],
   "source": [
    "def calc_total_time(results):\n",
    "    \"\"\"Calculate and print the total time.\n",
    "    \n",
    "    results: DataFrame\n",
    "    \"\"\"\n",
    "    time = round(results.last_valid_index(), 2)\n",
    "    time_str = str(time)  \n",
    "    print('\\x1b[1;31m'+'The total time it took the penguin to get to the end of the pool was'+'\\x1b[0m', \n",
    "          '\\x1b[1;31m'+ time_str +'\\x1b[0m', '\\x1b[1;31m'+'seconds.'+'\\x1b[0m')"
   ]
  },
  {
   "cell_type": "markdown",
   "metadata": {},
   "source": [
    "This function prints the maximum speed the penguin reaches when it swims."
   ]
  },
  {
   "cell_type": "code",
   "execution_count": null,
   "metadata": {},
   "outputs": [],
   "source": [
    "def calc_max_speed(results):\n",
    "    \"\"\"Calculate and print the max speed of the penguin in the fluid.\n",
    "    \n",
    "    results: DataFrame\n",
    "    \"\"\"\n",
    "    max_speed = results.v.max()\n",
    "    max_speed_str = str(round(max_speed, 2))\n",
    "    \n",
    "    max_speed_kph = round ((max_speed * 3.6), 2)\n",
    "    max_speed_kph_str = str(max_speed_kph)\n",
    "    \n",
    "    print('\\x1b[1;31m'+'The max speed of the penguin was'+'\\x1b[0m', \n",
    "          '\\x1b[1;31m'+ max_speed_str +'\\x1b[0m', \n",
    "          '\\x1b[1;31m'+'m/s or'+'\\x1b[0m',\n",
    "          '\\x1b[1;31m'+ max_speed_kph_str +'\\x1b[0m',\n",
    "          '\\x1b[1;31m'+'kph.'+'\\x1b[0m')"
   ]
  },
  {
   "cell_type": "markdown",
   "metadata": {},
   "source": [
    "This function prints the average speed of the penguin throughout the simulation."
   ]
  },
  {
   "cell_type": "code",
   "execution_count": null,
   "metadata": {},
   "outputs": [],
   "source": [
    "def calc_avg_speed(results):\n",
    "    \"\"\"Calculate and print the average speed of the penguin in the fluid.\n",
    "    \n",
    "    results: DataFrame\n",
    "    \"\"\"\n",
    "    avg_speed = results.v.mean()\n",
    "    avg_speed_str = str(round(avg_speed, 2))\n",
    "    \n",
    "    avg_speed_kph = round ((avg_speed * 3.6), 2)\n",
    "    avg_speed_kph_str = str(avg_speed_kph)\n",
    "    \n",
    "    print('\\x1b[1;31m'+'The average speed of the penguin was'+'\\x1b[0m', \n",
    "          '\\x1b[1;31m'+ avg_speed_str +'\\x1b[0m', \n",
    "          '\\x1b[1;31m'+'m/s or'+'\\x1b[0m',\n",
    "          '\\x1b[1;31m'+ avg_speed_kph_str +'\\x1b[0m',\n",
    "          '\\x1b[1;31m'+'kph.'+'\\x1b[0m')"
   ]
  },
  {
   "attachments": {},
   "cell_type": "markdown",
   "metadata": {},
   "source": [
    "Our force drag function computes a force opposite the direction of the penguin's velocity. This value is a scalar as our model only functions in one dimension and using vectors did not simplify the model. It uses the drag force equation:\n",
    "\n",
    "![](http://chubbyrevision.weebly.com/uploads/1/0/5/8/10584247/1329940531.jpg)\n",
    "\n",
    "#### Drag Force Model\n",
    "\n",
    "The coefficient of drag and frontal area of the penguin do not change between simulations. However, the fluid density (rho) changes with each simulation. Velocity changes throughout the course of the simulation."
   ]
  },
  {
   "cell_type": "code",
   "execution_count": null,
   "metadata": {},
   "outputs": [],
   "source": [
    "def force_drag(V, system):\n",
    "    \"\"\"Computes drag force in the opposite direction of 'v'.\n",
    "    \n",
    "    V: velocity\n",
    "    system: System object with rho, C_d, area\n",
    "    \n",
    "    returns: scalar drag force\n",
    "    \"\"\"\n",
    "    unpack(system)\n",
    "    f_drag_mag = -rho * V**2 * C_d * frontal_area / 2\n",
    "    return f_drag_mag"
   ]
  },
  {
   "cell_type": "markdown",
   "metadata": {},
   "source": [
    "### Penguin Force\n",
    "\n",
    "#### Average Penguin Force\n",
    "\n",
    "To compute the average force of the penguin swimming, we back-calculate it based off of the drag force. The assumption is that, at terminal velocity, the force of the penguin is equal to the drag force. Therefore, the force of the penguin has the same magnitude but opposite direction of the drag force at the penguin's maximum speed in salt water.\n",
    "\n",
    "#### Instantaneous Penguin Force\n",
    "\n",
    "Although we can find the average force of the penguin on the fluid, this force is not constant. To move, the penguin must move its flippers in the water to propel itself. When the penguin is pushing back into the water, it exerts force on the fluid and accelerates. When the penguin is pulling its flippers from back to front, it is setting itself up for another push and is slowing down due to the drag force of the water. It is not accelerating at this point.\n",
    "\n",
    "To account for this, we need to find the instantaneous penguin force. This will allow us to find the instantaneous acceleration. \n",
    "\n",
    "#### Sawtooth Force Model\n",
    "\n",
    "Since the penguin is only exerting a force around 50% of the time, a sawtooth model seemed like a logical first step. The assumption that the penguin only exerts force around 50% of the time is a rough estimate from watching [Gentoo penguins swimming](https://www.youtube.com/watch?v=_TXKiz_DGc4 \"Video\"). We also liked the sawtooth model because a penguin is going to have times when it makes better contact with the water and can exert more force, just as  a Sawtooth model slopes to a point and goes back down.\n",
    "\n",
    "The sawtooth function has a period which matches the flapping rate of our penguin. The magnitude of the sawtooth wave is four times the average force exerted by the penguin (More on this later).\n",
    "\n",
    "When the sawtooth function is zero or below, an \"if\" statement is used to set the force exerted by the penguin to zero. This is another assumption that the penguin does not push itself backwards while resetting itself. Penguins are relatively aerodynamic and efficient so this is logical. \n",
    "\n",
    "The magnitude of the sawtooth wave must be four times the average force exerted by the penguin for the average output to be equivelent to the average force exerted by the penguin (Given enough time). "
   ]
  },
  {
   "cell_type": "code",
   "execution_count": null,
   "metadata": {},
   "outputs": [],
   "source": [
    "def force_penguin_sawtooth(t, system):\n",
    "    \"\"\"Computes the force the penguin exerts on the fluid using a sawtooth function.\n",
    "    \n",
    "    t: time\n",
    "    system: System object\n",
    "    \n",
    "    returns: Scalar penguin force\"\"\"\n",
    "    params_penguin = params\n",
    "    params_penguin.rho = rho_sea_water\n",
    "    system_penguin = make_system(params_penguin)\n",
    "    f_penguin_avg = - force_drag(system.p_max_avg_speed, system_penguin)\n",
    "    \n",
    "    amplitude = 4 * f_penguin_avg\n",
    "    wavelength = 1/system.p_flap_speed\n",
    "    p_flap = amplitude * signal.sawtooth(wavelength * 2 * pi * t, 0.5)\n",
    "    if (p_flap > 0 * N):\n",
    "        f_penguin = p_flap\n",
    "    else: \n",
    "        f_penguin = 0 * N\n",
    "    return f_penguin"
   ]
  },
  {
   "cell_type": "markdown",
   "metadata": {},
   "source": [
    "#### Sine Force Model\n",
    "\n",
    "We also tried calculating force of the penguin using a sine wave to represent the flipper force. We thought a sine wave might make more sense as it is less abrupt than a sawtooth model (More time spent exerting an efficient force). This seemed more representative of how a penguin pushes against the water: The maximum surface area of the flipper is used to propel the penguin halfway through a \"flap\". Towards the beginning and end of the motion the penguin is much less efficient than in the middle.\n",
    "\n",
    "The wavelength matches the flap rate of the penguin. The amplitude is pi * f_penguin_avg (where f_penguin_avg is the average force of the penguin on the fluid). This is done such that the average output of our function, where outputs below zero result in zero force, is equal to the average force of the penguin.\n",
    "\n",
    "The average value of one arc of a sine wave (With an amplitude of 1) is .636619772367581. The inverse of this is pi / 2. This pi / 2 value needs to be multiplied by f_penguin_avg to result in the average output of the positive portion of the sin wave to equal f_penguin_avg.\n",
    "\n",
    "However, since there is also a portion of our function where the output is below zero and the penguin force is zero we need to multiply the value by two again. Hence why pi * f_penguin_avg for our amplitude results in an average penguin force of f_penguin_avg."
   ]
  },
  {
   "cell_type": "code",
   "execution_count": null,
   "metadata": {},
   "outputs": [],
   "source": [
    "def force_penguin_sin(t, system):\n",
    "    \"\"\"Computes the force the penguin exerts on the fluid using a sin function.\n",
    "    \n",
    "    t: time\n",
    "    system: System object\n",
    "    \n",
    "    returns: Scalar penguin force\"\"\"\n",
    "    params_penguin = params\n",
    "    params_penguin.rho = rho_sea_water\n",
    "    system_penguin = make_system(params_penguin)\n",
    "    f_penguin_avg = - force_drag(system.p_max_avg_speed, system_penguin)\n",
    "    \n",
    "    amplitude = pi * f_penguin_avg\n",
    "    wavelength = 1/system.p_flap_speed\n",
    "    p_flap = amplitude * math.sin(wavelength * 2 * pi * t)\n",
    "    if (p_flap > 0 * N):\n",
    "        f_penguin = p_flap\n",
    "    else: \n",
    "        f_penguin = 0\n",
    "    return f_penguin"
   ]
  },
  {
   "cell_type": "markdown",
   "metadata": {},
   "source": [
    "We wrote a force_penguin function to allow us to choose between the sin and sawtooth method with a change system parameter. This allows us to easily see the results of the model for both examples."
   ]
  },
  {
   "cell_type": "code",
   "execution_count": null,
   "metadata": {},
   "outputs": [],
   "source": [
    "def force_penguin(t, system):\n",
    "    \"\"\"Determines which penguin force function to use based off the system function.\n",
    "    \n",
    "    t: time\n",
    "    system: System Object\n",
    "    \n",
    "    returns: Scalar penguin force\"\"\"\n",
    "    \n",
    "    if (system.f_penguin_calc == 'Sawtooth'):\n",
    "        f_penguin = force_penguin_sawtooth(t, system)\n",
    "    if (system.f_penguin_calc == 'Sin'):\n",
    "        f_penguin = force_penguin_sin(t, system)\n",
    "    if (system.f_penguin_calc != 'Sin' and system.f_penguin_calc != 'Sawtooth'):\n",
    "        print ('Invalid f_penguin_calc in system object.')\n",
    "    return f_penguin"
   ]
  },
  {
   "cell_type": "markdown",
   "metadata": {},
   "source": [
    "The slope function returns the velocity and acceleration, calculated from the forces on the penguin."
   ]
  },
  {
   "cell_type": "code",
   "execution_count": null,
   "metadata": {},
   "outputs": [],
   "source": [
    "def slope_func(state, t, system):\n",
    "    \"\"\"Computes derivatives of the state variables.\n",
    "    \n",
    "    state: State ()\n",
    "    t: time\n",
    "    system: System object with\n",
    "    \n",
    "    returns: derivatives of y and v\n",
    "    \"\"\"\n",
    "    x, v = state\n",
    "    unpack(system)    \n",
    "\n",
    "    f_drag = force_drag(v, system)\n",
    "    f_penguin = force_penguin(t, system)\n",
    "    \n",
    "    f_total = f_penguin + f_drag\n",
    "    \n",
    "    dydt = v\n",
    "    dvdt = f_total / p_mass #acceleration\n",
    "    \n",
    "    return dydt, dvdt"
   ]
  },
  {
   "cell_type": "markdown",
   "metadata": {},
   "source": [
    "In order to better communicate the differences between fluids, we want to see how long it takes for the penguin to swim the span of an Olympic swimming pool. The following event function stops the solver function when the penguin reaches the end of the pool."
   ]
  },
  {
   "cell_type": "code",
   "execution_count": null,
   "metadata": {},
   "outputs": [],
   "source": [
    "def event_func(state, t, system):\n",
    "    \"\"\"Return the ditance of the penguin in the pool.\n",
    "    \n",
    "    state: state object with the position and velocity of the penguin\n",
    "    t: int representing the time the model is at\n",
    "    system: system object with the model params\n",
    "    \"\"\"\n",
    "    x, v = state\n",
    "    return x - system.pool_length"
   ]
  },
  {
   "cell_type": "markdown",
   "metadata": {},
   "source": [
    "# Results"
   ]
  },
  {
   "cell_type": "markdown",
   "metadata": {},
   "source": [
    "Testing the Gentoo penguin in the different substances."
   ]
  },
  {
   "cell_type": "markdown",
   "metadata": {},
   "source": [
    "First the results in the control substance: sea water. The Sawtoon penguin force model is used first."
   ]
  },
  {
   "cell_type": "code",
   "execution_count": null,
   "metadata": {},
   "outputs": [],
   "source": [
    "params.rho = rho_sea_water\n",
    "system = make_system(params)\n",
    "results, details = run_ode_solver(system, slope_func, events=event_func, max_step =.01)\n",
    "analyze_results(results, system, 'Sea Water')"
   ]
  },
  {
   "cell_type": "markdown",
   "metadata": {},
   "source": [
    "The same thing except now with the Sinee penguin force model. The Sin penguin force model will be used for the rest of the results (More on this later)."
   ]
  },
  {
   "cell_type": "code",
   "execution_count": null,
   "metadata": {},
   "outputs": [],
   "source": [
    "params.rho = rho_sea_water\n",
    "system = make_system(params)\n",
    "system.f_penguin_calc = 'Sin'\n",
    "results, details = run_ode_solver(system, slope_func, events=event_func, max_step =.01)\n",
    "analyze_results(results, system, 'Sea Water')"
   ]
  },
  {
   "cell_type": "markdown",
   "metadata": {},
   "source": [
    "The original question that inspired us to make this model: What happens if a penguin swims in syrup? (Ignoring the sugary effect on the penguin. I choose to believe that the penguin would just want to eat it right up). The syrup helps us to know what would happen if a penguin swam through a thicker substance. It helps us to quantify and visualize the answer to our question."
   ]
  },
  {
   "cell_type": "code",
   "execution_count": null,
   "metadata": {},
   "outputs": [],
   "source": [
    "params.rho = rho_syrup\n",
    "system = make_system(params)\n",
    "system.f_penguin_calc = 'Sin'\n",
    "results, details = run_ode_solver(system, slope_func, events=event_func, max_step =.01)\n",
    "analyze_results(results, system, 'Syrup')"
   ]
  },
  {
   "cell_type": "markdown",
   "metadata": {},
   "source": [
    "For our final result, a substance less dense than sea water: propyl alcohol."
   ]
  },
  {
   "cell_type": "code",
   "execution_count": null,
   "metadata": {},
   "outputs": [],
   "source": [
    "params.rho = rho_propyl_alcohol\n",
    "system = make_system(params)\n",
    "system.f_penguin_calc = 'Sin'\n",
    "results, details = run_ode_solver(system, slope_func, events=event_func, max_step =.01)\n",
    "analyze_results(results, system, 'Alcohol')"
   ]
  },
  {
   "cell_type": "markdown",
   "metadata": {},
   "source": [
    "# Interpretation"
   ]
  },
  {
   "cell_type": "markdown",
   "metadata": {},
   "source": [
    "#### How the Output and Model answered the Question\n",
    "Our Model helped us to answer the question by giving us a quantantative and visual answer. The Position vs Time plot and total time print out gave us an overall view of how different fluids change the time it takes the penguin to cover distance. \n",
    "\n",
    "The Velocity vs Time plot gave us a good visualization of how a penguin swims. Printing out values such as the max speed and average speed provided a quantative look at the peak velocity the Gentoo penguin was able to reach in each substance.\n",
    "\n",
    "Doing this in a Python model instead of with a fully algebraic model (Such as one that could be done by hand) allowed us to easily track velocity over time. This is especially seen in how we modeled the force of the penguin on the fluid, as this changes multiple times per second due to the flapping of the penguin's flippers. Using a Python model also made it easy to test multiple fluids quickly and easily.\n",
    "\n",
    "Overall, having both a position vs time plot and velocity vs time plot, as well as printed summary statements, made it easy to glance just at the results and understand the quantitative, rather than qualitative relationship between penguin movement at different fluids.\n",
    "\n",
    "#### Model Limitations\n",
    "All in all, our model does an effective job answering our original question with sufficient accuracy. However, there could be some improvements.\n",
    "\n",
    "In regards to results, the code does not allow for simple comparison between simulations--readers must compare the distinction between different trials for themselves.\n",
    "\n",
    "We also did not have time to add different penguins, who may have different results. However, the model does allow for the penguin parameters to be changed.\n",
    "\n",
    "Because penguins tend to swim in very cold water, the assumption that temperature changes play little role in the density of the fluid may be an incorrect one.\n",
    "\n",
    "Though a wave function modeling the movement of the penguin's wings and the non-constant force it produces was a good step, it could perhaps have a level of error. Penguins may not swim at full speed for the whole time, so considering the stamina of the penguin could be a next step.\n",
    "\n",
    "#### Iteration\n",
    "The biggest iteration our model went through was the change in how we represented the force of the penguin. Originally, our penguin's force was constant, just equivalent to the average force as derived from the drag equation. Although this gave us very similar total time results to our current model, this force model does not accurately represent how a penguin exerts force on the water. \n",
    "\n",
    "To fix this, we tested two seperate functions to model the penguin's force exerted on the water: a sawtooth and sine wave. This can be clearly seen in the Velocity vs Time plots. This is another place where our Python model allows us to do more than a simple algebraic one could reasonably accomplish.\n",
    "\n",
    "Another major area of iteration was in the presentation of data. Originally, there were just the Position vs Time and Velocity vs Time plots. Although these technically display all the essential data, they are hard to parse and quickly differentiate between different fluids. Adding summary statements for the performance of the penguin (total time, max speed, average speed) helped this vastly."
   ]
  },
  {
   "cell_type": "code",
   "execution_count": null,
   "metadata": {},
   "outputs": [],
   "source": []
  }
 ],
 "metadata": {
  "kernelspec": {
   "display_name": "Python 3",
   "language": "python",
   "name": "python3"
  },
  "language_info": {
   "codemirror_mode": {
    "name": "ipython",
    "version": 3
   },
   "file_extension": ".py",
   "mimetype": "text/x-python",
   "name": "python",
   "nbconvert_exporter": "python",
   "pygments_lexer": "ipython3",
   "version": "3.6.6"
  }
 },
 "nbformat": 4,
 "nbformat_minor": 2
}
